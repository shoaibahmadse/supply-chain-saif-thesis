{
 "cells": [
  {
   "cell_type": "code",
   "execution_count": 1,
   "id": "d97e92f9",
   "metadata": {},
   "outputs": [],
   "source": [
    "import pandas as pd\n",
    "from sklearn.ensemble import RandomForestRegressor\n",
    "import matplotlib.pyplot as plt"
   ]
  },
  {
   "cell_type": "code",
   "execution_count": 2,
   "id": "7f0030c7",
   "metadata": {},
   "outputs": [],
   "source": [
    "df = pd.read_csv('superstore_dataset2011-2015.csv', encoding='unicode_escape')"
   ]
  },
  {
   "cell_type": "code",
   "execution_count": 3,
   "id": "1fcd4265",
   "metadata": {},
   "outputs": [],
   "source": [
    "# df.columns\n",
    "\n",
    "# Drop irrelevant columns\n",
    "df.drop(['Row ID', 'Order Date', 'Ship Date', 'Ship Mode', 'Customer Name', 'Segment', 'Country', 'City', 'State', 'Postal Code', 'Region', 'Product ID', 'Category', 'Sub-Category'], axis=1, inplace=True)\n",
    "\n",
    "# Rename columns\n",
    "# df.columns = ['Sales', 'Quantity', 'Discount', 'Profit']\n",
    "\n",
    "# Check for missing values\n",
    "# df.isnull().sum()"
   ]
  },
  {
   "cell_type": "code",
   "execution_count": 4,
   "id": "a8833032",
   "metadata": {},
   "outputs": [
    {
     "data": {
      "text/plain": [
       "Index(['Order ID', 'Customer ID', 'Market', 'Product Name', 'Sales',\n",
       "       'Quantity', 'Discount', 'Profit', 'Shipping Cost', 'Order Priority'],\n",
       "      dtype='object')"
      ]
     },
     "execution_count": 4,
     "metadata": {},
     "output_type": "execute_result"
    }
   ],
   "source": [
    "df.columns"
   ]
  },
  {
   "cell_type": "code",
   "execution_count": 5,
   "id": "a46de8bf-48f7-4c6c-92e6-2416c7ed4a9d",
   "metadata": {},
   "outputs": [
    {
     "data": {
      "text/html": [
       "<div>\n",
       "<style scoped>\n",
       "    .dataframe tbody tr th:only-of-type {\n",
       "        vertical-align: middle;\n",
       "    }\n",
       "\n",
       "    .dataframe tbody tr th {\n",
       "        vertical-align: top;\n",
       "    }\n",
       "\n",
       "    .dataframe thead th {\n",
       "        text-align: right;\n",
       "    }\n",
       "</style>\n",
       "<table border=\"1\" class=\"dataframe\">\n",
       "  <thead>\n",
       "    <tr style=\"text-align: right;\">\n",
       "      <th></th>\n",
       "      <th>Order ID</th>\n",
       "      <th>Customer ID</th>\n",
       "      <th>Market</th>\n",
       "      <th>Product Name</th>\n",
       "      <th>Sales</th>\n",
       "      <th>Quantity</th>\n",
       "      <th>Discount</th>\n",
       "      <th>Profit</th>\n",
       "      <th>Shipping Cost</th>\n",
       "      <th>Order Priority</th>\n",
       "    </tr>\n",
       "  </thead>\n",
       "  <tbody>\n",
       "    <tr>\n",
       "      <th>26109</th>\n",
       "      <td>ID-2014-56983</td>\n",
       "      <td>BV-11245</td>\n",
       "      <td>APAC</td>\n",
       "      <td>Enermax Mouse, Programmable</td>\n",
       "      <td>208.950</td>\n",
       "      <td>5</td>\n",
       "      <td>0.00</td>\n",
       "      <td>91.800</td>\n",
       "      <td>23.11</td>\n",
       "      <td>Low</td>\n",
       "    </tr>\n",
       "    <tr>\n",
       "      <th>30110</th>\n",
       "      <td>CA-2012-153038</td>\n",
       "      <td>RB-19645</td>\n",
       "      <td>US</td>\n",
       "      <td>Master Caster Door Stop, Brown</td>\n",
       "      <td>20.320</td>\n",
       "      <td>5</td>\n",
       "      <td>0.20</td>\n",
       "      <td>3.556</td>\n",
       "      <td>2.23</td>\n",
       "      <td>Medium</td>\n",
       "    </tr>\n",
       "    <tr>\n",
       "      <th>36015</th>\n",
       "      <td>ES-2012-5708011</td>\n",
       "      <td>SB-20185</td>\n",
       "      <td>EU</td>\n",
       "      <td>Binney &amp; Smith Pens, Fluorescent</td>\n",
       "      <td>26.400</td>\n",
       "      <td>2</td>\n",
       "      <td>0.00</td>\n",
       "      <td>0.480</td>\n",
       "      <td>0.32</td>\n",
       "      <td>Medium</td>\n",
       "    </tr>\n",
       "    <tr>\n",
       "      <th>20546</th>\n",
       "      <td>IR-2011-2310</td>\n",
       "      <td>JE-5475</td>\n",
       "      <td>EMEA</td>\n",
       "      <td>Acco Index Tab, Clear</td>\n",
       "      <td>16.080</td>\n",
       "      <td>2</td>\n",
       "      <td>0.00</td>\n",
       "      <td>6.720</td>\n",
       "      <td>2.61</td>\n",
       "      <td>High</td>\n",
       "    </tr>\n",
       "    <tr>\n",
       "      <th>17213</th>\n",
       "      <td>ID-2014-55338</td>\n",
       "      <td>JW-15220</td>\n",
       "      <td>APAC</td>\n",
       "      <td>Bush Library with Doors, Metal</td>\n",
       "      <td>945.828</td>\n",
       "      <td>4</td>\n",
       "      <td>0.35</td>\n",
       "      <td>-392.892</td>\n",
       "      <td>57.02</td>\n",
       "      <td>Medium</td>\n",
       "    </tr>\n",
       "  </tbody>\n",
       "</table>\n",
       "</div>"
      ],
      "text/plain": [
       "              Order ID Customer ID Market                      Product Name  \\\n",
       "26109    ID-2014-56983    BV-11245   APAC       Enermax Mouse, Programmable   \n",
       "30110   CA-2012-153038    RB-19645     US    Master Caster Door Stop, Brown   \n",
       "36015  ES-2012-5708011    SB-20185     EU  Binney & Smith Pens, Fluorescent   \n",
       "20546     IR-2011-2310     JE-5475   EMEA             Acco Index Tab, Clear   \n",
       "17213    ID-2014-55338    JW-15220   APAC    Bush Library with Doors, Metal   \n",
       "\n",
       "         Sales  Quantity  Discount   Profit  Shipping Cost Order Priority  \n",
       "26109  208.950         5      0.00   91.800          23.11            Low  \n",
       "30110   20.320         5      0.20    3.556           2.23         Medium  \n",
       "36015   26.400         2      0.00    0.480           0.32         Medium  \n",
       "20546   16.080         2      0.00    6.720           2.61           High  \n",
       "17213  945.828         4      0.35 -392.892          57.02         Medium  "
      ]
     },
     "execution_count": 5,
     "metadata": {},
     "output_type": "execute_result"
    }
   ],
   "source": [
    "df.sample(n=5)"
   ]
  },
  {
   "cell_type": "code",
   "execution_count": 6,
   "id": "72c8f4a1",
   "metadata": {},
   "outputs": [],
   "source": [
    "df.drop(['Order ID'], axis=1, inplace=True)"
   ]
  },
  {
   "cell_type": "code",
   "execution_count": 7,
   "id": "205d42f4-d801-4654-bc51-6605f5304503",
   "metadata": {},
   "outputs": [],
   "source": [
    "df.drop(['Profit'], axis=1, inplace=True)"
   ]
  },
  {
   "cell_type": "code",
   "execution_count": 8,
   "id": "72cd78b6",
   "metadata": {},
   "outputs": [
    {
     "data": {
      "text/plain": [
       "Index(['Customer ID', 'Market', 'Product Name', 'Sales', 'Quantity',\n",
       "       'Discount', 'Shipping Cost', 'Order Priority'],\n",
       "      dtype='object')"
      ]
     },
     "execution_count": 8,
     "metadata": {},
     "output_type": "execute_result"
    }
   ],
   "source": [
    "df.columns"
   ]
  },
  {
   "cell_type": "code",
   "execution_count": 9,
   "id": "25b77222",
   "metadata": {},
   "outputs": [
    {
     "data": {
      "text/html": [
       "<div>\n",
       "<style scoped>\n",
       "    .dataframe tbody tr th:only-of-type {\n",
       "        vertical-align: middle;\n",
       "    }\n",
       "\n",
       "    .dataframe tbody tr th {\n",
       "        vertical-align: top;\n",
       "    }\n",
       "\n",
       "    .dataframe thead th {\n",
       "        text-align: right;\n",
       "    }\n",
       "</style>\n",
       "<table border=\"1\" class=\"dataframe\">\n",
       "  <thead>\n",
       "    <tr style=\"text-align: right;\">\n",
       "      <th></th>\n",
       "      <th>Customer ID</th>\n",
       "      <th>Market</th>\n",
       "      <th>Product Name</th>\n",
       "      <th>Sales</th>\n",
       "      <th>Quantity</th>\n",
       "      <th>Discount</th>\n",
       "      <th>Shipping Cost</th>\n",
       "      <th>Order Priority</th>\n",
       "    </tr>\n",
       "  </thead>\n",
       "  <tbody>\n",
       "    <tr>\n",
       "      <th>49177</th>\n",
       "      <td>RB-9435</td>\n",
       "      <td>EMEA</td>\n",
       "      <td>Cisco Smart Phone, Cordless</td>\n",
       "      <td>1172.6640</td>\n",
       "      <td>6</td>\n",
       "      <td>0.70</td>\n",
       "      <td>239.69</td>\n",
       "      <td>High</td>\n",
       "    </tr>\n",
       "    <tr>\n",
       "      <th>2560</th>\n",
       "      <td>JD-16015</td>\n",
       "      <td>EU</td>\n",
       "      <td>BIC Pencil Sharpener, Water Color</td>\n",
       "      <td>64.3800</td>\n",
       "      <td>2</td>\n",
       "      <td>0.00</td>\n",
       "      <td>5.21</td>\n",
       "      <td>High</td>\n",
       "    </tr>\n",
       "    <tr>\n",
       "      <th>16875</th>\n",
       "      <td>JP-15520</td>\n",
       "      <td>APAC</td>\n",
       "      <td>Tenex Shelving, Wire Frame</td>\n",
       "      <td>222.9795</td>\n",
       "      <td>5</td>\n",
       "      <td>0.17</td>\n",
       "      <td>40.93</td>\n",
       "      <td>Medium</td>\n",
       "    </tr>\n",
       "    <tr>\n",
       "      <th>3524</th>\n",
       "      <td>AG-10495</td>\n",
       "      <td>EU</td>\n",
       "      <td>Wilson Jones 3-Hole Punch, Recycled</td>\n",
       "      <td>141.7500</td>\n",
       "      <td>5</td>\n",
       "      <td>0.00</td>\n",
       "      <td>6.35</td>\n",
       "      <td>Medium</td>\n",
       "    </tr>\n",
       "    <tr>\n",
       "      <th>41210</th>\n",
       "      <td>HK-14890</td>\n",
       "      <td>LATAM</td>\n",
       "      <td>Belkin Flash Drive, Erganomic</td>\n",
       "      <td>127.2000</td>\n",
       "      <td>6</td>\n",
       "      <td>0.20</td>\n",
       "      <td>13.34</td>\n",
       "      <td>Low</td>\n",
       "    </tr>\n",
       "    <tr>\n",
       "      <th>10770</th>\n",
       "      <td>KB-16315</td>\n",
       "      <td>US</td>\n",
       "      <td>Blue String-Tie &amp; Button Interoffice Envelopes...</td>\n",
       "      <td>95.9520</td>\n",
       "      <td>3</td>\n",
       "      <td>0.20</td>\n",
       "      <td>6.95</td>\n",
       "      <td>Medium</td>\n",
       "    </tr>\n",
       "  </tbody>\n",
       "</table>\n",
       "</div>"
      ],
      "text/plain": [
       "      Customer ID Market                                       Product Name  \\\n",
       "49177     RB-9435   EMEA                        Cisco Smart Phone, Cordless   \n",
       "2560     JD-16015     EU                  BIC Pencil Sharpener, Water Color   \n",
       "16875    JP-15520   APAC                         Tenex Shelving, Wire Frame   \n",
       "3524     AG-10495     EU                Wilson Jones 3-Hole Punch, Recycled   \n",
       "41210    HK-14890  LATAM                      Belkin Flash Drive, Erganomic   \n",
       "10770    KB-16315     US  Blue String-Tie & Button Interoffice Envelopes...   \n",
       "\n",
       "           Sales  Quantity  Discount  Shipping Cost Order Priority  \n",
       "49177  1172.6640         6      0.70         239.69           High  \n",
       "2560     64.3800         2      0.00           5.21           High  \n",
       "16875   222.9795         5      0.17          40.93         Medium  \n",
       "3524    141.7500         5      0.00           6.35         Medium  \n",
       "41210   127.2000         6      0.20          13.34            Low  \n",
       "10770    95.9520         3      0.20           6.95         Medium  "
      ]
     },
     "execution_count": 9,
     "metadata": {},
     "output_type": "execute_result"
    }
   ],
   "source": [
    "df.sample(n=6)"
   ]
  },
  {
   "cell_type": "code",
   "execution_count": 10,
   "id": "462814ce-e466-453e-adf5-a8f069da22ee",
   "metadata": {},
   "outputs": [
    {
     "name": "stdout",
     "output_type": "stream",
     "text": [
      "              Sales      Quantity      Discount  Shipping Cost\n",
      "count  51290.000000  51290.000000  51290.000000   51290.000000\n",
      "mean     246.490581      3.476545      0.142908      26.375915\n",
      "std      487.565361      2.278766      0.212280      57.296804\n",
      "min        0.444000      1.000000      0.000000       0.000000\n",
      "25%       30.758625      2.000000      0.000000       2.610000\n",
      "50%       85.053000      3.000000      0.000000       7.790000\n",
      "75%      251.053200      5.000000      0.200000      24.450000\n",
      "max    22638.480000     14.000000      0.850000     933.570000\n"
     ]
    }
   ],
   "source": [
    "summary_stats = df.describe()\n",
    "print(summary_stats)"
   ]
  },
  {
   "cell_type": "code",
   "execution_count": 11,
   "id": "4fdf6895-cf9f-4cfe-80f3-4bdd44190dd9",
   "metadata": {},
   "outputs": [
    {
     "name": "stdout",
     "output_type": "stream",
     "text": [
      "Customer ID       0\n",
      "Market            0\n",
      "Product Name      0\n",
      "Sales             0\n",
      "Quantity          0\n",
      "Discount          0\n",
      "Shipping Cost     0\n",
      "Order Priority    0\n",
      "dtype: int64\n"
     ]
    }
   ],
   "source": [
    "missing_values = df.isnull().sum()\n",
    "print(missing_values)"
   ]
  },
  {
   "cell_type": "code",
   "execution_count": 12,
   "id": "45700add-b24a-495c-81f6-e1ecdce95fd0",
   "metadata": {},
   "outputs": [
    {
     "data": {
      "image/png": "[encoded data removed]",
      "text/plain": [
       "<Figure size 1000x500 with 1 Axes>"
      ]
     },
     "metadata": {},
     "output_type": "display_data"
    }
   ],
   "source": [
    "import matplotlib.pyplot as plt\n",
    "import seaborn as sns\n",
    "\n",
    "# Sales distribuion\n",
    "plt.figure(figsize=(10, 5))\n",
    "sns.histplot(df['Sales'], bins=10, kde=True)\n",
    "plt.title('Sales Distribution')\n",
    "plt.xlabel('Sales')\n",
    "plt.ylabel('Frequency')\n",
    "plt.show()"
   ]
  },
  {
   "cell_type": "code",
   "execution_count": 13,
   "id": "1e428d5f-e4c7-483b-972f-d57b87f0231a",
   "metadata": {},
   "outputs": [
    {
     "data": {
      "image/png": "[encoded data removed]",
      "text/plain": [
       "<Figure size 1000x500 with 1 Axes>"
      ]
     },
     "metadata": {},
     "output_type": "display_data"
    }
   ],
   "source": [
    "# Quantity distribution\n",
    "plt.figure(figsize=(10, 5))\n",
    "sns.histplot(df['Quantity'], bins=10, kde=True)\n",
    "plt.title('Quantity Distribution')\n",
    "plt.xlabel('Quantity')\n",
    "plt.ylabel('Frequency')\n",
    "plt.show()"
   ]
  },
  {
   "cell_type": "code",
   "execution_count": 14,
   "id": "11dd3ad8-1ec9-4d08-9404-c92b4c30b4da",
   "metadata": {},
   "outputs": [
    {
     "data": {
      "image/png": "[encoded data removed]",
      "text/plain": [
       "<Figure size 1000x500 with 2 Axes>"
      ]
     },
     "metadata": {},
     "output_type": "display_data"
    }
   ],
   "source": [
    "# Select only numerical columns\n",
    "numerical_df = df[['Sales', 'Quantity', 'Discount', 'Shipping Cost']]\n",
    "\n",
    "# Correlation matrix\n",
    "plt.figure(figsize=(10, 5))\n",
    "sns.heatmap(numerical_df.corr(), annot=True, cmap='coolwarm', vmin=-1, vmax=1)\n",
    "plt.title('Correlation Matrix')\n",
    "plt.show()"
   ]
  },
  {
   "cell_type": "code",
   "execution_count": 15,
   "id": "c30df1f7-d5f5-4bdb-b9d6-b3eefff1f92d",
   "metadata": {},
   "outputs": [
    {
     "data": {
      "image/png": "[encoded data removed]",
      "text/plain": [
       "<Figure size 1000x500 with 1 Axes>"
      ]
     },
     "metadata": {},
     "output_type": "display_data"
    }
   ],
   "source": [
    "# Market distribution\n",
    "plt.figure(figsize=(10, 5))\n",
    "sns.countplot(x='Market', data=df)\n",
    "plt.title('Market Distribution')\n",
    "plt.xlabel('Market')\n",
    "plt.ylabel('Count')\n",
    "plt.show()"
   ]
  },
  {
   "cell_type": "code",
   "execution_count": 16,
   "id": "88e8c885-f068-42a1-86b3-078283391097",
   "metadata": {},
   "outputs": [
    {
     "data": {
      "image/png": "[encoded data removed]",
      "text/plain": [
       "<Figure size 1000x500 with 1 Axes>"
      ]
     },
     "metadata": {},
     "output_type": "display_data"
    }
   ],
   "source": [
    "# Order Priority distribution\n",
    "plt.figure(figsize=(10, 5))\n",
    "sns.countplot(x='Order Priority', data=df)\n",
    "plt.title('Order Priority Distribution')\n",
    "plt.xlabel('Order Priority')\n",
    "plt.ylabel('Count')\n",
    "plt.show()"
   ]
  },
  {
   "cell_type": "code",
   "execution_count": 17,
   "id": "e197b74e",
   "metadata": {},
   "outputs": [],
   "source": [
    "from sklearn.model_selection import train_test_split\n",
    "from sklearn.preprocessing import LabelEncoder, StandardScaler\n",
    "from sklearn.ensemble import RandomForestRegressor\n",
    "import joblib"
   ]
  },
  {
   "cell_type": "code",
   "execution_count": 18,
   "id": "95721ea0-5da5-451e-891b-b80cde1d3f8a",
   "metadata": {},
   "outputs": [],
   "source": [
    "label_encoder = LabelEncoder()\n",
    "# Apply label encoding to categoricaal columnss\n",
    "df['Customer ID'] = label_encoder.fit_transform(df['Customer ID'])\n",
    "df['Market'] = label_encoder.fit_transform(df['Market'])\n",
    "df['Product Name'] = label_encoder.fit_transform(df['Product Name'])\n",
    "df['Order Priority'] = label_encoder.fit_transform(df['Order Priority'])"
   ]
  },
  {
   "cell_type": "code",
   "execution_count": 19,
   "id": "87b12553-d18d-45a0-a1b1-33746dec2ad2",
   "metadata": {},
   "outputs": [],
   "source": [
    "numerical_cols = ['Quantity', 'Discount', 'Shipping Cost']\n",
    "scaler = StandardScaler()\n",
    "# Fit and transform the numerical columns\n",
    "df[numerical_cols] = scaler.fit_transform(df[numerical_cols])"
   ]
  },
  {
   "cell_type": "code",
   "execution_count": 20,
   "id": "3217f141-e172-47fc-bd9f-6e0297738ab6",
   "metadata": {},
   "outputs": [],
   "source": [
    "X = df.drop(columns=['Sales'])\n",
    "y = df['Sales']"
   ]
  },
  {
   "cell_type": "code",
   "execution_count": 21,
   "id": "2dbf3d51-1306-44d6-b6db-89372799759e",
   "metadata": {},
   "outputs": [
    {
     "data": {
      "text/html": [
       "<div>\n",
       "<style scoped>\n",
       "    .dataframe tbody tr th:only-of-type {\n",
       "        vertical-align: middle;\n",
       "    }\n",
       "\n",
       "    .dataframe tbody tr th {\n",
       "        vertical-align: top;\n",
       "    }\n",
       "\n",
       "    .dataframe thead th {\n",
       "        text-align: right;\n",
       "    }\n",
       "</style>\n",
       "<table border=\"1\" class=\"dataframe\">\n",
       "  <thead>\n",
       "    <tr style=\"text-align: right;\">\n",
       "      <th></th>\n",
       "      <th>Customer ID</th>\n",
       "      <th>Market</th>\n",
       "      <th>Product Name</th>\n",
       "      <th>Quantity</th>\n",
       "      <th>Discount</th>\n",
       "      <th>Shipping Cost</th>\n",
       "      <th>Order Priority</th>\n",
       "    </tr>\n",
       "  </thead>\n",
       "  <tbody>\n",
       "    <tr>\n",
       "      <th>0</th>\n",
       "      <td>1468</td>\n",
       "      <td>1</td>\n",
       "      <td>3413</td>\n",
       "      <td>-0.647964</td>\n",
       "      <td>-0.673210</td>\n",
       "      <td>0.158546</td>\n",
       "      <td>3</td>\n",
       "    </tr>\n",
       "    <tr>\n",
       "      <th>1</th>\n",
       "      <td>741</td>\n",
       "      <td>0</td>\n",
       "      <td>168</td>\n",
       "      <td>-0.209126</td>\n",
       "      <td>-0.202129</td>\n",
       "      <td>-0.290698</td>\n",
       "      <td>3</td>\n",
       "    </tr>\n",
       "    <tr>\n",
       "      <th>2</th>\n",
       "      <td>119</td>\n",
       "      <td>3</td>\n",
       "      <td>3382</td>\n",
       "      <td>0.229712</td>\n",
       "      <td>-0.673210</td>\n",
       "      <td>-0.317751</td>\n",
       "      <td>1</td>\n",
       "    </tr>\n",
       "    <tr>\n",
       "      <th>3</th>\n",
       "      <td>541</td>\n",
       "      <td>4</td>\n",
       "      <td>1330</td>\n",
       "      <td>-0.209126</td>\n",
       "      <td>1.682194</td>\n",
       "      <td>-0.376219</td>\n",
       "      <td>1</td>\n",
       "    </tr>\n",
       "    <tr>\n",
       "      <th>4</th>\n",
       "      <td>741</td>\n",
       "      <td>0</td>\n",
       "      <td>1228</td>\n",
       "      <td>0.668550</td>\n",
       "      <td>-0.202129</td>\n",
       "      <td>-0.378313</td>\n",
       "      <td>3</td>\n",
       "    </tr>\n",
       "    <tr>\n",
       "      <th>...</th>\n",
       "      <td>...</td>\n",
       "      <td>...</td>\n",
       "      <td>...</td>\n",
       "      <td>...</td>\n",
       "      <td>...</td>\n",
       "      <td>...</td>\n",
       "      <td>...</td>\n",
       "    </tr>\n",
       "    <tr>\n",
       "      <th>51285</th>\n",
       "      <td>499</td>\n",
       "      <td>6</td>\n",
       "      <td>898</td>\n",
       "      <td>-0.647964</td>\n",
       "      <td>0.268952</td>\n",
       "      <td>-0.444810</td>\n",
       "      <td>3</td>\n",
       "    </tr>\n",
       "    <tr>\n",
       "      <th>51286</th>\n",
       "      <td>939</td>\n",
       "      <td>1</td>\n",
       "      <td>3541</td>\n",
       "      <td>-1.086803</td>\n",
       "      <td>-0.673210</td>\n",
       "      <td>-0.451791</td>\n",
       "      <td>3</td>\n",
       "    </tr>\n",
       "    <tr>\n",
       "      <th>51287</th>\n",
       "      <td>313</td>\n",
       "      <td>5</td>\n",
       "      <td>1820</td>\n",
       "      <td>-0.209126</td>\n",
       "      <td>-0.673210</td>\n",
       "      <td>-0.454234</td>\n",
       "      <td>3</td>\n",
       "    </tr>\n",
       "    <tr>\n",
       "      <th>51288</th>\n",
       "      <td>1495</td>\n",
       "      <td>5</td>\n",
       "      <td>1847</td>\n",
       "      <td>-1.086803</td>\n",
       "      <td>-0.673210</td>\n",
       "      <td>-0.456852</td>\n",
       "      <td>3</td>\n",
       "    </tr>\n",
       "    <tr>\n",
       "      <th>51289</th>\n",
       "      <td>783</td>\n",
       "      <td>6</td>\n",
       "      <td>515</td>\n",
       "      <td>-0.209126</td>\n",
       "      <td>0.268952</td>\n",
       "      <td>-0.457376</td>\n",
       "      <td>3</td>\n",
       "    </tr>\n",
       "  </tbody>\n",
       "</table>\n",
       "<p>51290 rows × 7 columns</p>\n",
       "</div>"
      ],
      "text/plain": [
       "       Customer ID  Market  Product Name  Quantity  Discount  Shipping Cost  \\\n",
       "0             1468       1          3413 -0.647964 -0.673210       0.158546   \n",
       "1              741       0           168 -0.209126 -0.202129      -0.290698   \n",
       "2              119       3          3382  0.229712 -0.673210      -0.317751   \n",
       "3              541       4          1330 -0.209126  1.682194      -0.376219   \n",
       "4              741       0          1228  0.668550 -0.202129      -0.378313   \n",
       "...            ...     ...           ...       ...       ...            ...   \n",
       "51285          499       6           898 -0.647964  0.268952      -0.444810   \n",
       "51286          939       1          3541 -1.086803 -0.673210      -0.451791   \n",
       "51287          313       5          1820 -0.209126 -0.673210      -0.454234   \n",
       "51288         1495       5          1847 -1.086803 -0.673210      -0.456852   \n",
       "51289          783       6           515 -0.209126  0.268952      -0.457376   \n",
       "\n",
       "       Order Priority  \n",
       "0                   3  \n",
       "1                   3  \n",
       "2                   1  \n",
       "3                   1  \n",
       "4                   3  \n",
       "...               ...  \n",
       "51285               3  \n",
       "51286               3  \n",
       "51287               3  \n",
       "51288               3  \n",
       "51289               3  \n",
       "\n",
       "[51290 rows x 7 columns]"
      ]
     },
     "execution_count": 21,
     "metadata": {},
     "output_type": "execute_result"
    }
   ],
   "source": [
    "X"
   ]
  },
  {
   "cell_type": "code",
   "execution_count": 22,
   "id": "8a7ffbfd-3292-427d-b117-599336ce690d",
   "metadata": {},
   "outputs": [],
   "source": [
    "X_train, X_test, y_train, y_test = train_test_split(X, y, test_size=0.2, random_state=42)"
   ]
  },
  {
   "cell_type": "code",
   "execution_count": 23,
   "id": "d00b2e1c",
   "metadata": {},
   "outputs": [
    {
     "data": {
      "text/html": [
       "<style>#sk-container-id-1 {color: black;}#sk-container-id-1 pre{padding: 0;}#sk-container-id-1 div.sk-toggleable {background-color: white;}#sk-container-id-1 label.sk-toggleable__label {cursor: pointer;display: block;width: 100%;margin-bottom: 0;padding: 0.3em;box-sizing: border-box;text-align: center;}#sk-container-id-1 label.sk-toggleable__label-arrow:before {content: \"▸\";float: left;margin-right: 0.25em;color: #696969;}#sk-container-id-1 label.sk-toggleable__label-arrow:hover:before {color: black;}#sk-container-id-1 div.sk-estimator:hover label.sk-toggleable__label-arrow:before {color: black;}#sk-container-id-1 div.sk-toggleable__content {max-height: 0;max-width: 0;overflow: hidden;text-align: left;background-color: #f0f8ff;}#sk-container-id-1 div.sk-toggleable__content pre {margin: 0.2em;color: black;border-radius: 0.25em;background-color: #f0f8ff;}#sk-container-id-1 input.sk-toggleable__control:checked~div.sk-toggleable__content {max-height: 200px;max-width: 100%;overflow: auto;}#sk-container-id-1 input.sk-toggleable__control:checked~label.sk-toggleable__label-arrow:before {content: \"▾\";}#sk-container-id-1 div.sk-estimator input.sk-toggleable__control:checked~label.sk-toggleable__label {background-color: #d4ebff;}#sk-container-id-1 div.sk-label input.sk-toggleable__control:checked~label.sk-toggleable__label {background-color: #d4ebff;}#sk-container-id-1 input.sk-hidden--visually {border: 0;clip: rect(1px 1px 1px 1px);clip: rect(1px, 1px, 1px, 1px);height: 1px;margin: -1px;overflow: hidden;padding: 0;position: absolute;width: 1px;}#sk-container-id-1 div.sk-estimator {font-family: monospace;background-color: #f0f8ff;border: 1px dotted black;border-radius: 0.25em;box-sizing: border-box;margin-bottom: 0.5em;}#sk-container-id-1 div.sk-estimator:hover {background-color: #d4ebff;}#sk-container-id-1 div.sk-parallel-item::after {content: \"\";width: 100%;border-bottom: 1px solid gray;flex-grow: 1;}#sk-container-id-1 div.sk-label:hover label.sk-toggleable__label {background-color: #d4ebff;}#sk-container-id-1 div.sk-serial::before {content: \"\";position: absolute;border-left: 1px solid gray;box-sizing: border-box;top: 0;bottom: 0;left: 50%;z-index: 0;}#sk-container-id-1 div.sk-serial {display: flex;flex-direction: column;align-items: center;background-color: white;padding-right: 0.2em;padding-left: 0.2em;position: relative;}#sk-container-id-1 div.sk-item {position: relative;z-index: 1;}#sk-container-id-1 div.sk-parallel {display: flex;align-items: stretch;justify-content: center;background-color: white;position: relative;}#sk-container-id-1 div.sk-item::before, #sk-container-id-1 div.sk-parallel-item::before {content: \"\";position: absolute;border-left: 1px solid gray;box-sizing: border-box;top: 0;bottom: 0;left: 50%;z-index: -1;}#sk-container-id-1 div.sk-parallel-item {display: flex;flex-direction: column;z-index: 1;position: relative;background-color: white;}#sk-container-id-1 div.sk-parallel-item:first-child::after {align-self: flex-end;width: 50%;}#sk-container-id-1 div.sk-parallel-item:last-child::after {align-self: flex-start;width: 50%;}#sk-container-id-1 div.sk-parallel-item:only-child::after {width: 0;}#sk-container-id-1 div.sk-dashed-wrapped {border: 1px dashed gray;margin: 0 0.4em 0.5em 0.4em;box-sizing: border-box;padding-bottom: 0.4em;background-color: white;}#sk-container-id-1 div.sk-label label {font-family: monospace;font-weight: bold;display: inline-block;line-height: 1.2em;}#sk-container-id-1 div.sk-label-container {text-align: center;}#sk-container-id-1 div.sk-container {/* jupyter's `normalize.less` sets `[hidden] { display: none; }` but bootstrap.min.css set `[hidden] { display: none !important; }` so we also need the `!important` here to be able to override the default hidden behavior on the sphinx rendered scikit-learn.org. See: https://github.com/scikit-learn/scikit-learn/issues/21755 */display: inline-block !important;position: relative;}#sk-container-id-1 div.sk-text-repr-fallback {display: none;}</style><div id=\"sk-container-id-1\" class=\"sk-top-container\"><div class=\"sk-text-repr-fallback\"><pre>RandomForestRegressor()</pre><b>In a Jupyter environment, please rerun this cell to show the HTML representation or trust the notebook. <br />On GitHub, the HTML representation is unable to render, please try loading this page with nbviewer.org.</b></div><div class=\"sk-container\" hidden><div class=\"sk-item\"><div class=\"sk-estimator sk-toggleable\"><input class=\"sk-toggleable__control sk-hidden--visually\" id=\"sk-estimator-id-1\" type=\"checkbox\" checked><label for=\"sk-estimator-id-1\" class=\"sk-toggleable__label sk-toggleable__label-arrow\">RandomForestRegressor</label><div class=\"sk-toggleable__content\"><pre>RandomForestRegressor()</pre></div></div></div></div></div>"
      ],
      "text/plain": [
       "RandomForestRegressor()"
      ]
     },
     "execution_count": 23,
     "metadata": {},
     "output_type": "execute_result"
    }
   ],
   "source": [
    "# Train a RandomForestClassifier\n",
    "model = RandomForestRegressor()\n",
    "model.fit(X_train, y_train)"
   ]
  },
  {
   "cell_type": "code",
   "execution_count": 24,
   "id": "87782f4d-2920-4475-bc1c-971212e3926f",
   "metadata": {},
   "outputs": [
    {
     "name": "stdout",
     "output_type": "stream",
     "text": [
      "Mean Absolute Error: 85.14\n",
      "Mean Squared Error: 90890.43\n",
      "R-squared: 0.65\n"
     ]
    }
   ],
   "source": [
    "from sklearn.metrics import mean_absolute_error, mean_squared_error, r2_score\n",
    "\n",
    "# Make predictions on the test set\n",
    "y_pred = model.predict(X_test)\n",
    "\n",
    "# Calculate metrics\n",
    "mae = mean_absolute_error(y_test, y_pred)\n",
    "mse = mean_squared_error(y_test, y_pred)\n",
    "r2 = r2_score(y_test, y_pred)\n",
    "\n",
    "print(f\"Mean Absolute Error: {mae:.2f}\")\n",
    "print(f\"Mean Squared Error: {mse:.2f}\")\n",
    "print(f\"R-squared: {r2:.2f}\")\n"
   ]
  },
  {
   "cell_type": "code",
   "execution_count": 25,
   "id": "4a8ee42c-4a19-4e15-8a27-422c95730c17",
   "metadata": {},
   "outputs": [
    {
     "name": "stdout",
     "output_type": "stream",
     "text": [
      "Data types before encoding:\n",
      " Customer ID         int32\n",
      "Market              int32\n",
      "Product Name        int32\n",
      "Sales             float64\n",
      "Quantity          float64\n",
      "Discount          float64\n",
      "Shipping Cost     float64\n",
      "Order Priority      int32\n",
      "dtype: object\n"
     ]
    }
   ],
   "source": [
    "print(\"Data types before encoding:\\n\", df.dtypes)"
   ]
  },
  {
   "cell_type": "code",
   "execution_count": 26,
   "id": "bac33600-8ca5-446b-aee4-cb71a14cd88a",
   "metadata": {},
   "outputs": [
    {
     "name": "stdout",
     "output_type": "stream",
     "text": [
      "Predicted Sales: 28.90\n"
     ]
    },
    {
     "name": "stderr",
     "output_type": "stream",
     "text": [
      "C:\\Users\\AhmAD\\AppData\\Local\\Programs\\Python\\Python39\\lib\\site-packages\\sklearn\\base.py:465: UserWarning: X does not have valid feature names, but RandomForestRegressor was fitted with feature names\n",
      "  warnings.warn(\n"
     ]
    }
   ],
   "source": [
    "new_data = [[313,5,1820,-0.209126,-0.673210,-0.454234,3]]\n",
    "predicted_sales = model.predict(new_data)\n",
    "print(f\"Predicted Sales: {predicted_sales[0]:.2f}\")"
   ]
  },
  {
   "cell_type": "code",
   "execution_count": 45,
   "id": "10458357-90bb-406c-8c59-f7790fa4099f",
   "metadata": {},
   "outputs": [
    {
     "name": "stdout",
     "output_type": "stream",
     "text": [
      "Model saved to random_forest_model.pkl\n"
     ]
    }
   ],
   "source": [
    "model_filename = 'random_forest_model.pkl'\n",
    "joblib.dump(model, model_filename)\n",
    "\n",
    "print(f\"Model saved to {model_filename}\")"
   ]
  },
  {
   "cell_type": "code",
   "execution_count": 47,
   "id": "c38c82a5-4f03-44ac-af71-d6a901972efd",
   "metadata": {},
   "outputs": [
    {
     "name": "stdout",
     "output_type": "stream",
     "text": [
      "K-Nearest Neighbors Regressor MAE: 219.23\n",
      "K-Nearest Neighbors Regressor MSE: 239187.78\n",
      "K-Nearest Neighbors Regressor R-squared: 0.08\n"
     ]
    }
   ],
   "source": [
    "from sklearn.neighbors import KNeighborsRegressor\n",
    "from sklearn.metrics import mean_absolute_error, mean_squared_error, r2_score\n",
    "\n",
    "knn_model = KNeighborsRegressor(n_neighbors=5)  # Number of neighbors\n",
    "knn_model.fit(X_train, y_train)\n",
    "y_pred = knn_model.predict(X_test)\n",
    "mae = mean_absolute_error(y_test, y_pred)\n",
    "mse = mean_squared_error(y_test, y_pred)\n",
    "r2 = r2_score(y_test, y_pred)\n",
    "print(f\"K-Nearest Neighbors Regressor MAE: {mae:.2f}\")\n",
    "print(f\"K-Nearest Neighbors Regressor MSE: {mse:.2f}\")\n",
    "print(f\"K-Nearest Neighbors Regressor R-squared: {r2:.2f}\")"
   ]
  },
  {
   "cell_type": "code",
   "execution_count": 49,
   "id": "86e0b88b-da96-4149-8b28-e54d0f7888f1",
   "metadata": {},
   "outputs": [
    {
     "name": "stdout",
     "output_type": "stream",
     "text": [
      "Gradient Boosting Regressor MAE: 82.64\n",
      "Gradient Boosting Regressor MSE: 89018.42\n",
      "Gradient Boosting Regressor R-squared: 0.66\n"
     ]
    }
   ],
   "source": [
    "from sklearn.ensemble import GradientBoostingRegressor\n",
    "from sklearn.metrics import mean_absolute_error, mean_squared_error, r2_score\n",
    "\n",
    "# Initialize and train the model\n",
    "model = GradientBoostingRegressor()\n",
    "model.fit(X_train, y_train)\n",
    "\n",
    "# Predict\n",
    "y_pred = model.predict(X_test)\n",
    "\n",
    "# Calculate metrics\n",
    "mae = mean_absolute_error(y_test, y_pred)\n",
    "mse = mean_squared_error(y_test, y_pred)\n",
    "r2 = r2_score(y_test, y_pred)\n",
    "\n",
    "print(f\"Gradient Boosting Regressor MAE: {mae:.2f}\")\n",
    "print(f\"Gradient Boosting Regressor MSE: {mse:.2f}\")\n",
    "print(f\"Gradient Boosting Regressor R-squared: {r2:.2f}\")\n"
   ]
  },
  {
   "cell_type": "code",
   "execution_count": 50,
   "id": "206ac4d7-b9cc-4a46-8444-f3c47acd9158",
   "metadata": {},
   "outputs": [
    {
     "name": "stdout",
     "output_type": "stream",
     "text": [
      "Decision Tree Regressor MAE: 111.70\n",
      "Decision Tree Regressor MSE: 140405.95\n",
      "Decision Tree Regressor R-squared: 0.46\n"
     ]
    }
   ],
   "source": [
    "from sklearn.tree import DecisionTreeRegressor\n",
    "from sklearn.metrics import mean_absolute_error, mean_squared_error, r2_score\n",
    "\n",
    "# Initialize and train the model\n",
    "model = DecisionTreeRegressor()\n",
    "model.fit(X_train, y_train)\n",
    "\n",
    "# Predict\n",
    "y_pred = model.predict(X_test)\n",
    "\n",
    "# Calculate metrics\n",
    "mae = mean_absolute_error(y_test, y_pred)\n",
    "mse = mean_squared_error(y_test, y_pred)\n",
    "r2 = r2_score(y_test, y_pred)\n",
    "\n",
    "print(f\"Decision Tree Regressor MAE: {mae:.2f}\")\n",
    "print(f\"Decision Tree Regressor MSE: {mse:.2f}\")\n",
    "print(f\"Decision Tree Regressor R-squared: {r2:.2f}\")\n"
   ]
  },
  {
   "cell_type": "code",
   "execution_count": 28,
   "id": "78096a65-fb7b-4189-a657-3e4e86b8c39f",
   "metadata": {},
   "outputs": [
    {
     "data": {
      "text/plain": [
       "['label_encoder2.pkl']"
      ]
     },
     "execution_count": 28,
     "metadata": {},
     "output_type": "execute_result"
    }
   ],
   "source": [
    "# Save LabelEncoder and StandardScaler\n",
    "joblib.dump(label_encoder, 'label_encoder2.pkl')\n",
    "# joblib.dump(scaler, 'scaler.pkl')"
   ]
  },
  {
   "cell_type": "code",
   "execution_count": null,
   "id": "fd2f5a28-be07-4941-9305-d61a7ab22243",
   "metadata": {},
   "outputs": [],
   "source": []
  }
 ],
 "metadata": {
  "kernelspec": {
   "display_name": "Python 3 (ipykernel)",
   "language": "python",
   "name": "python3"
  },
  "language_info": {
   "codemirror_mode": {
    "name": "ipython",
    "version": 3
   },
   "file_extension": ".py",
   "mimetype": "text/x-python",
   "name": "python",
   "nbconvert_exporter": "python",
   "pygments_lexer": "ipython3",
   "version": "3.9.12"
  }
 },
 "nbformat": 4,
 "nbformat_minor": 5
}
